{
 "cells": [
  {
   "cell_type": "code",
   "execution_count": 1,
   "metadata": {},
   "outputs": [
    {
     "name": "stderr",
     "output_type": "stream",
     "text": [
      "/home/user/colpali/.venv/lib/python3.10/site-packages/tqdm/auto.py:21: TqdmWarning: IProgress not found. Please update jupyter and ipywidgets. See https://ipywidgets.readthedocs.io/en/stable/user_install.html\n",
      "  from .autonotebook import tqdm as notebook_tqdm\n"
     ]
    }
   ],
   "source": [
    "from colpali_engine.models.qwen2_5.colqwen2_5.modeling_colqwen2_5 import ColQwen2_5\n",
    "from colpali_engine.models.qwen2_5.colqwen2_5.processing_colqwen2_5 import ColQwen2_5_Processor\n",
    "\n",
    "from datasets import load_dataset, concatenate_datasets\n",
    "from colpali_engine.collators.visual_retriever_collator import VisualRetrieverCollator\n",
    "from tqdm import tqdm\n",
    "import torch\n",
    "from matplotlib import pyplot as plt\n",
    "import numpy\n",
    "from sklearn.manifold import TSNE\n",
    "from transformers import Qwen2_5_VLProcessor, Qwen2_5_VLForConditionalGeneration"
   ]
  },
  {
   "cell_type": "code",
   "execution_count": 2,
   "metadata": {},
   "outputs": [
    {
     "name": "stderr",
     "output_type": "stream",
     "text": [
      "Loading checkpoint shards: 100%|██████████| 2/2 [00:02<00:00,  1.36s/it]\n",
      "Some weights of ColQwen2_5 were not initialized from the model checkpoint at Qwen/Qwen2.5-VL-3B-Instruct and are newly initialized: ['custom_text_proj.bias', 'custom_text_proj.weight']\n",
      "You should probably TRAIN this model on a down-stream task to be able to use it for predictions and inference.\n"
     ]
    }
   ],
   "source": [
    "processor = ColQwen2_5_Processor.from_pretrained(\"Qwen/Qwen2.5-VL-3B-Instruct\")\n",
    "device = \"cuda\"\n",
    "model= ColQwen2_5.from_pretrained(\n",
    "    \"Qwen/Qwen2.5-VL-3B-Instruct\", \n",
    "    torch_dtype=\"bfloat16\", \n",
    "    attn_implementation=\"flash_attention_2\",\n",
    "    device_map=device\n",
    ")"
   ]
  },
  {
   "cell_type": "code",
   "execution_count": 3,
   "metadata": {},
   "outputs": [
    {
     "name": "stderr",
     "output_type": "stream",
     "text": [
      "Loading checkpoint shards:   0%|          | 0/2 [00:00<?, ?it/s]"
     ]
    },
    {
     "name": "stderr",
     "output_type": "stream",
     "text": [
      "Loading checkpoint shards: 100%|██████████| 2/2 [00:03<00:00,  1.51s/it]\n"
     ]
    }
   ],
   "source": [
    "processor = Qwen2_5_VLProcessor.from_pretrained(\"Qwen/Qwen2.5-VL-3B-Instruct\")\n",
    "device = \"cuda\"\n",
    "model= Qwen2_5_VLForConditionalGeneration.from_pretrained(\n",
    "    \"Qwen/Qwen2.5-VL-3B-Instruct\", \n",
    "    torch_dtype=\"bfloat16\", \n",
    "    attn_implementation=\"flash_attention_2\",\n",
    "    device_map=device\n",
    ")"
   ]
  },
  {
   "cell_type": "code",
   "execution_count": 3,
   "metadata": {},
   "outputs": [
    {
     "name": "stdout",
     "output_type": "stream",
     "text": [
      "36\n"
     ]
    }
   ],
   "source": [
    "print(len(model.model.layers))\n",
    "\n",
    "# model.model.layers.pop(slice(18, None, 1))\n",
    "# print(len(model.model.layers))"
   ]
  },
  {
   "cell_type": "code",
   "execution_count": 4,
   "metadata": {},
   "outputs": [],
   "source": [
    "healthcare = load_dataset(\"vidore/syntheticDocQA_healthcare_industry_test\", num_proc=40, split=\"test\")\n",
    "gov_reports = load_dataset(\"vidore/syntheticDocQA_government_reports_test\", num_proc=40, split=\"test\")\n",
    "energy = load_dataset(\"vidore/syntheticDocQA_energy_test\", num_proc=40, split=\"test\")\n",
    "arxiv = load_dataset(\"vidore/arxivqa_test_subsampled\", num_proc=40, split=\"test\")\n",
    "shift = load_dataset(\"vidore/shiftproject_test\", num_proc=40, split=\"test\")"
   ]
  },
  {
   "cell_type": "code",
   "execution_count": 5,
   "metadata": {},
   "outputs": [],
   "source": [
    "dataset = concatenate_datasets([\n",
    "    healthcare.select([*range(300)]),\n",
    "    gov_reports.select([*range(300)]),\n",
    "    energy.select([*range(300)]),\n",
    "    arxiv.select([*range(300)]),\n",
    "    shift.select([*range(300)]),\n",
    "])\n",
    "target_names = [\"healthcare\", \"gov_reports\", \"energy\", \"arxiv\", \"shift\"]\n",
    "targets = numpy.concat(\n",
    "    (numpy.array([0] * 300),\n",
    "    numpy.array([1] * 300),\n",
    "    numpy.array([2] * 300),\n",
    "    numpy.array([3] * 300),\n",
    "    numpy.array([4] * 300)),\n",
    "    axis=0\n",
    ")"
   ]
  },
  {
   "cell_type": "code",
   "execution_count": 6,
   "metadata": {},
   "outputs": [],
   "source": [
    "dataset = dataset.select([10])"
   ]
  },
  {
   "cell_type": "code",
   "execution_count": 6,
   "metadata": {},
   "outputs": [
    {
     "name": "stderr",
     "output_type": "stream",
     "text": [
      "  0%|          | 0/24 [00:00<?, ?it/s]"
     ]
    },
    {
     "name": "stdout",
     "output_type": "stream",
     "text": [
      "(672, 868)\n",
      "36\n"
     ]
    },
    {
     "name": "stderr",
     "output_type": "stream",
     "text": [
      "  4%|▍         | 1/24 [00:13<04:59, 13.02s/it]"
     ]
    },
    {
     "name": "stdout",
     "output_type": "stream",
     "text": [
      "(672, 868)\n",
      "36\n"
     ]
    },
    {
     "name": "stderr",
     "output_type": "stream",
     "text": [
      "  8%|▊         | 2/24 [00:24<04:21, 11.89s/it]"
     ]
    },
    {
     "name": "stdout",
     "output_type": "stream",
     "text": [
      "(672, 868)\n",
      "36\n"
     ]
    },
    {
     "name": "stderr",
     "output_type": "stream",
     "text": [
      " 12%|█▎        | 3/24 [00:35<04:01, 11.51s/it]"
     ]
    },
    {
     "name": "stdout",
     "output_type": "stream",
     "text": [
      "(672, 868)\n",
      "36\n"
     ]
    },
    {
     "name": "stderr",
     "output_type": "stream",
     "text": [
      " 17%|█▋        | 4/24 [00:46<03:46, 11.34s/it]"
     ]
    },
    {
     "name": "stdout",
     "output_type": "stream",
     "text": [
      "(644, 896)\n",
      "36\n"
     ]
    },
    {
     "name": "stderr",
     "output_type": "stream",
     "text": [
      " 21%|██        | 5/24 [00:57<03:35, 11.34s/it]"
     ]
    },
    {
     "name": "stdout",
     "output_type": "stream",
     "text": [
      "(896, 644)\n",
      "36\n"
     ]
    },
    {
     "name": "stderr",
     "output_type": "stream",
     "text": [
      " 25%|██▌       | 6/24 [01:08<03:24, 11.35s/it]"
     ]
    },
    {
     "name": "stdout",
     "output_type": "stream",
     "text": [
      "(868, 672)\n",
      "36\n"
     ]
    },
    {
     "name": "stderr",
     "output_type": "stream",
     "text": [
      " 29%|██▉       | 7/24 [01:19<03:10, 11.21s/it]"
     ]
    },
    {
     "name": "stdout",
     "output_type": "stream",
     "text": [
      "(868, 672)\n",
      "36\n"
     ]
    },
    {
     "name": "stderr",
     "output_type": "stream",
     "text": [
      " 33%|███▎      | 8/24 [01:31<02:59, 11.19s/it]"
     ]
    },
    {
     "name": "stdout",
     "output_type": "stream",
     "text": [
      "(672, 868)\n",
      "36\n"
     ]
    },
    {
     "name": "stderr",
     "output_type": "stream",
     "text": [
      " 38%|███▊      | 9/24 [01:42<02:47, 11.20s/it]"
     ]
    },
    {
     "name": "stdout",
     "output_type": "stream",
     "text": [
      "(672, 868)\n",
      "36\n"
     ]
    },
    {
     "name": "stderr",
     "output_type": "stream",
     "text": [
      " 42%|████▏     | 10/24 [01:53<02:36, 11.20s/it]"
     ]
    },
    {
     "name": "stdout",
     "output_type": "stream",
     "text": [
      "(672, 868)\n",
      "36\n"
     ]
    },
    {
     "name": "stderr",
     "output_type": "stream",
     "text": [
      " 46%|████▌     | 11/24 [02:04<02:25, 11.20s/it]"
     ]
    },
    {
     "name": "stdout",
     "output_type": "stream",
     "text": [
      "(672, 868)\n",
      "36\n"
     ]
    },
    {
     "name": "stderr",
     "output_type": "stream",
     "text": [
      " 50%|█████     | 12/24 [02:15<02:14, 11.21s/it]"
     ]
    },
    {
     "name": "stdout",
     "output_type": "stream",
     "text": [
      "(672, 868)\n",
      "36\n"
     ]
    },
    {
     "name": "stderr",
     "output_type": "stream",
     "text": [
      " 54%|█████▍    | 13/24 [02:27<02:03, 11.22s/it]"
     ]
    },
    {
     "name": "stdout",
     "output_type": "stream",
     "text": [
      "(672, 868)\n",
      "36\n"
     ]
    },
    {
     "name": "stderr",
     "output_type": "stream",
     "text": [
      " 58%|█████▊    | 14/24 [02:38<01:52, 11.25s/it]"
     ]
    },
    {
     "name": "stdout",
     "output_type": "stream",
     "text": [
      "(672, 868)\n",
      "36\n"
     ]
    },
    {
     "name": "stderr",
     "output_type": "stream",
     "text": [
      " 62%|██████▎   | 15/24 [02:47<01:36, 10.68s/it]"
     ]
    },
    {
     "name": "stdout",
     "output_type": "stream",
     "text": [
      "(1092, 532)\n",
      "36\n"
     ]
    },
    {
     "name": "stderr",
     "output_type": "stream",
     "text": [
      " 67%|██████▋   | 16/24 [02:57<01:22, 10.36s/it]"
     ]
    },
    {
     "name": "stdout",
     "output_type": "stream",
     "text": [
      "(784, 756)\n",
      "36\n"
     ]
    },
    {
     "name": "stderr",
     "output_type": "stream",
     "text": [
      " 71%|███████   | 17/24 [03:07<01:11, 10.19s/it]"
     ]
    },
    {
     "name": "stdout",
     "output_type": "stream",
     "text": [
      "(952, 588)\n",
      "36\n"
     ]
    },
    {
     "name": "stderr",
     "output_type": "stream",
     "text": [
      " 75%|███████▌  | 18/24 [03:16<01:00, 10.05s/it]"
     ]
    },
    {
     "name": "stdout",
     "output_type": "stream",
     "text": [
      "(924, 616)\n",
      "36\n"
     ]
    },
    {
     "name": "stderr",
     "output_type": "stream",
     "text": [
      " 79%|███████▉  | 19/24 [03:26<00:50, 10.04s/it]"
     ]
    },
    {
     "name": "stdout",
     "output_type": "stream",
     "text": [
      "(644, 896)\n",
      "36\n"
     ]
    },
    {
     "name": "stderr",
     "output_type": "stream",
     "text": [
      " 83%|████████▎ | 20/24 [03:38<00:41, 10.39s/it]"
     ]
    },
    {
     "name": "stdout",
     "output_type": "stream",
     "text": [
      "(644, 896)\n",
      "36\n"
     ]
    },
    {
     "name": "stderr",
     "output_type": "stream",
     "text": [
      " 88%|████████▊ | 21/24 [03:49<00:32, 10.68s/it]"
     ]
    },
    {
     "name": "stdout",
     "output_type": "stream",
     "text": [
      "(644, 896)\n",
      "36\n"
     ]
    },
    {
     "name": "stderr",
     "output_type": "stream",
     "text": [
      " 92%|█████████▏| 22/24 [04:00<00:21, 10.89s/it]"
     ]
    },
    {
     "name": "stdout",
     "output_type": "stream",
     "text": [
      "(644, 896)\n",
      "36\n"
     ]
    },
    {
     "name": "stderr",
     "output_type": "stream",
     "text": [
      " 96%|█████████▌| 23/24 [04:12<00:11, 11.02s/it]"
     ]
    },
    {
     "name": "stdout",
     "output_type": "stream",
     "text": [
      "(644, 896)\n",
      "36\n"
     ]
    },
    {
     "name": "stderr",
     "output_type": "stream",
     "text": [
      "100%|██████████| 24/24 [04:17<00:00, 10.71s/it]\n"
     ]
    }
   ],
   "source": [
    "collator = VisualRetrieverCollator(processor)\n",
    "batch_size = 64\n",
    "passage_embeddings = []\n",
    "for i in tqdm(range(0, len(dataset), batch_size)):\n",
    "    examples = dataset.select([*range(i, min(i+batch_size, len(dataset)))])\n",
    "    batch = collator(examples)\n",
    "    with torch.no_grad():\n",
    "        emb_batch = model(\n",
    "            **{\n",
    "                k[4:]: v.to(device)\n",
    "                for k, v in batch.items()\n",
    "                if k.startswith(\"doc\")\n",
    "            }\n",
    "        )\n",
    "        passage_embeddings.extend(list(torch.unbind(emb_batch.to(\"cpu\"))))\n"
   ]
  },
  {
   "cell_type": "code",
   "execution_count": 7,
   "metadata": {},
   "outputs": [
    {
     "name": "stdout",
     "output_type": "stream",
     "text": [
      "torch.Size([1500, 2048])\n"
     ]
    }
   ],
   "source": [
    "passage_embeddings= [emb.mean(dim=0) for emb in passage_embeddings]\n",
    "passage_embeddings=torch.stack(passage_embeddings).to(dtype=torch.float)\n",
    "print(passage_embeddings.shape)"
   ]
  },
  {
   "cell_type": "code",
   "execution_count": null,
   "metadata": {},
   "outputs": [],
   "source": [
    "from colpali_engine.compression.token_pooling import HierarchicalTokenPooler\n",
    "import random\n",
    "\n",
    "\n",
    "\n",
    "img = dataset[0][\"image\"]\n",
    "img = processor.smart_resize(img)\n",
    "max_tokens = img.size[0] * img.size[1] // 28 // 28\n",
    "print(img.size)\n",
    "plt.figure(figsize=(12, 9),)\n",
    "plt.imshow(img)\n",
    "\n",
    "token_pooler = HierarchicalTokenPooler(pool_factor=150)\n",
    "print(passage_embeddings[0].shape)\n",
    "pooled_embeddigs = token_pooler.pool_embeddings(passage_embeddings, return_dict=True)\n",
    "print(pooled_embeddigs.cluster_id_to_indices)\n",
    "\n",
    "mapping = numpy.zeros((img.size[1], img.size[0]))\n",
    "rows = mapping.shape[0] // 28\n",
    "print(\"mapping:\", mapping.shape)\n",
    "mapping = mapping.reshape((28, -1))\n",
    "print(\"mapping:\", mapping.shape)\n",
    "\n",
    "for cluster_id, indices in pooled_embeddigs.cluster_id_to_indices[0].items():\n",
    "    indices = indices[0].tolist()\n",
    "    # discard prefix tokens\n",
    "    indices = [index - 4 for index in indices]\n",
    "    # discard suffix tokens\n",
    "    indices = [index for index in indices if index < max_tokens]\n",
    "    if not indices:\n",
    "        continue\n",
    "    filler = random.randint(0, max_tokens - 1)\n",
    "    print(indices)\n",
    "    for index in indices:\n",
    "        mapping[:, index * 28: (index + 1) * 28] = filler\n",
    "\n",
    "mapping=numpy.split(mapping, axis=1, indices_or_sections=rows)\n",
    "mapping = numpy.concat(mapping, axis=0)\n",
    "print(dataset[0][\"query\"])\n",
    "\n",
    "plt.imshow(mapping, alpha=0.5)\n",
    "\n",
    "\n",
    "\n"
   ]
  },
  {
   "cell_type": "code",
   "execution_count": 8,
   "metadata": {},
   "outputs": [
    {
     "data": {
      "image/png": "[encoded data removed]",
      "text/plain": [
       "<Figure size 640x480 with 1 Axes>"
      ]
     },
     "metadata": {},
     "output_type": "display_data"
    }
   ],
   "source": [
    "\n",
    "passage_low_dim = TSNE(\n",
    "    n_components=2, learning_rate=\"auto\", init=\"random\", perplexity=30\n",
    ").fit_transform(passage_embeddings)\n",
    "colors = [\"red\", \"yellow\", \"green\", \"blue\", \"orange\"]\n",
    "fig, ax = plt.subplots()\n",
    "for index, target_name in enumerate(target_names):\n",
    "    passages_of_target = passage_low_dim[numpy.where(targets == index)]\n",
    "    ax.scatter(\n",
    "        x=passages_of_target[:, 0],\n",
    "        y=passages_of_target[:, 1],\n",
    "        c=colors[index],\n",
    "        label=target_name,\n",
    "    )\n",
    "ax.legend()\n",
    "plt.show()"
   ]
  }
 ],
 "metadata": {
  "kernelspec": {
   "display_name": ".venv",
   "language": "python",
   "name": "python3"
  },
  "language_info": {
   "codemirror_mode": {
    "name": "ipython",
    "version": 3
   },
   "file_extension": ".py",
   "mimetype": "text/x-python",
   "name": "python",
   "nbconvert_exporter": "python",
   "pygments_lexer": "ipython3",
   "version": "3.10.16"
  }
 },
 "nbformat": 4,
 "nbformat_minor": 2
}
